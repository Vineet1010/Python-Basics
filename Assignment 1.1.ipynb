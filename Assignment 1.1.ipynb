{
 "cells": [
  {
   "cell_type": "code",
   "execution_count": 8,
   "metadata": {},
   "outputs": [
    {
     "name": "stdout",
     "output_type": "stream",
     "text": [
      "Please enter the numbers whose factors is to be determined100\n",
      "Factors are :\n",
      "1\n",
      "2\n",
      "4\n",
      "5\n",
      "10\n",
      "20\n",
      "25\n",
      "50\n"
     ]
    }
   ],
   "source": [
    "num=int(input('Please enter the numbers whose factors is to be determined'))\n",
    "i=1\n",
    "print('Factors are :')\n",
    "for i in range(1,num):\n",
    "    if(num%i==0):\n",
    "        print(i)\n",
    "    i+=1"
   ]
  },
  {
   "cell_type": "code",
   "execution_count": 12,
   "metadata": {},
   "outputs": [
    {
     "name": "stdout",
     "output_type": "stream",
     "text": [
      "Enter 1st wordvineet\n",
      "Enter 2nd worddolly\n",
      "Enter 3rd wordmummy\n",
      "['vineet', 'dolly', 'mummy']\n"
     ]
    }
   ],
   "source": [
    "my_list=['','','']\n",
    "my_list[0]=input('Enter 1st word')\n",
    "my_list[1]=input('Enter 2nd word')\n",
    "my_list[2]=input('Enter 3rd word')\n",
    "print(my_list)"
   ]
  },
  {
   "cell_type": "code",
   "execution_count": 5,
   "metadata": {},
   "outputs": [
    {
     "name": "stdout",
     "output_type": "stream",
     "text": [
      "Enter string S fdsdgg\n",
      "Enter string Y sdfsdfs\n",
      "{'f': 1, 'd': 2, 's': 1, 'g': 2}\n",
      "{'s': 3, 'd': 2, 'f': 2}\n"
     ]
    }
   ],
   "source": [
    "str_S=input('Enter string S ')\n",
    "str_Y=input('Enter string Y ')\n",
    "\n",
    "dict_S = {}\n",
    "for n in str_S:\n",
    "    keys = dict_S.keys()\n",
    "    if n in keys:\n",
    "        dict_S[n]+=1\n",
    "    else:\n",
    "        dict_S[n]=1\n",
    "print(dict_S)\n",
    "\n",
    "dict_Y = {}\n",
    "for n in str_Y:\n",
    "    keys = dict_Y.keys()\n",
    "    if n in keys:\n",
    "        dict_Y[n]+=1\n",
    "    else:\n",
    "        dict_Y[n]=1\n",
    "print(dict_Y)\n",
    "  \n"
   ]
  },
  {
   "cell_type": "code",
   "execution_count": 22,
   "metadata": {},
   "outputs": [
    {
     "name": "stdout",
     "output_type": "stream",
     "text": [
      "5\n",
      "16\n",
      "24\n",
      "12\n",
      "8\n",
      "5\n",
      "13.0\n"
     ]
    }
   ],
   "source": [
    "my_list=[]\n",
    "lenght_list=int(input())\n",
    "for i in range(0,lenght_list):\n",
    "    element=float(input())\n",
    "    my_list.append(element)\n",
    "    \n",
    "sum=0\n",
    "for i in range (0,lenght_list):\n",
    "    sum+=my_list[i]\n",
    "    \n",
    "print(sum/lenght_list)"
   ]
  },
  {
   "cell_type": "code",
   "execution_count": 16,
   "metadata": {},
   "outputs": [
    {
     "name": "stdout",
     "output_type": "stream",
     "text": [
      "abcdeefghij\n",
      "6\n"
     ]
    }
   ],
   "source": [
    "my_string=input()\n",
    "count=1;temp=1;\n",
    "los=(len(my_string))\n",
    "for i in range(1,los):\n",
    "    if (my_string[i]==my_string[i-1]):\n",
    "        temp=1\n",
    "    else:\n",
    "        temp+=1\n",
    "        if (temp>count):\n",
    "            count=temp\n",
    "print(count)"
   ]
  },
  {
   "cell_type": "code",
   "execution_count": 62,
   "metadata": {},
   "outputs": [
    {
     "data": {
      "text/plain": [
       "[4, 3, 2, 3, 5, 6]"
      ]
     },
     "execution_count": 62,
     "metadata": {},
     "output_type": "execute_result"
    }
   ],
   "source": [
    "list_a=[4,3,2]\n",
    "list_b=[3,5,6]\n",
    "\n",
    "def add_list(list_a, list_b):\n",
    "    return(list_a+list_b)\n",
    "add_list(list_a, list_b)"
   ]
  },
  {
   "cell_type": "code",
   "execution_count": 37,
   "metadata": {},
   "outputs": [
    {
     "name": "stdout",
     "output_type": "stream",
     "text": [
      "[4, 3, 2]\n"
     ]
    }
   ],
   "source": [
    "list_a=[4,3,2]\n",
    "list_b=[3,5,6]\n",
    "len_list_a=len(list_a)\n",
    "len_list_b=len(list_b)\n",
    "newlist=[]\n",
    "\n",
    "for i in range(0,len_list_a):\n",
    "    if (list_a[i]!=list_b[:]):\n",
    "        newlist.append(list_a[i])\n",
    "print(newlist)"
   ]
  },
  {
   "cell_type": "code",
   "execution_count": 40,
   "metadata": {},
   "outputs": [
    {
     "name": "stdout",
     "output_type": "stream",
     "text": [
      "4\n"
     ]
    }
   ],
   "source": [
    "list_a=[4,3,2]\n",
    "len_list_a=len(list_a)\n",
    "maximum=0\n",
    "\n",
    "for i in range(0,len_list_a):\n",
    "    if (list_a[i]>maximum):\n",
    "        maximum=list_a[i]\n",
    "print(maximum)"
   ]
  },
  {
   "cell_type": "code",
   "execution_count": 2,
   "metadata": {},
   "outputs": [
    {
     "name": "stdout",
     "output_type": "stream",
     "text": [
      "Enter a number 5\n",
      "[2, 3]\n"
     ]
    }
   ],
   "source": [
    "def isPrime(n): \n",
    "    for i in range(2, n): \n",
    "        if n % i == 0: \n",
    "            return False\n",
    "    return True\n",
    "  \n",
    "def printPrime(n):\n",
    "    if n <= 1 : \n",
    "        print('Invalid Parameter')\n",
    "        return\n",
    "    newlist=[]\n",
    "    for i in range(2, n): \n",
    "        if isPrime(i): \n",
    "            newlist.append(i)\n",
    "    print(newlist)\n",
    "    return\n",
    "  \n",
    "n=int(input('Enter a number '))\n",
    "printPrime(n)"
   ]
  },
  {
   "cell_type": "code",
   "execution_count": 49,
   "metadata": {},
   "outputs": [
    {
     "name": "stdout",
     "output_type": "stream",
     "text": [
      "Enter a number 10\n",
      "[2, 3, 4, 5, 6, 7, 8, 9]\n"
     ]
    }
   ],
   "source": [
    "def printPrime(n):\n",
    "    if n <= 1 : \n",
    "        print('Invalid Parameter')\n",
    "        return\n",
    "    newlist=[]\n",
    "    for i in range(2, n): \n",
    "        for j in range(2, i): \n",
    "            if i % j == 0: \n",
    "                break\n",
    "        newlist.append(i)\n",
    "    print(newlist)\n",
    "  \n",
    "n=int(input('Enter a number '))\n",
    "printPrime(n)"
   ]
  },
  {
   "cell_type": "code",
   "execution_count": 55,
   "metadata": {},
   "outputs": [
    {
     "data": {
      "text/plain": [
       "[2, 3, 4]"
      ]
     },
     "execution_count": 55,
     "metadata": {},
     "output_type": "execute_result"
    }
   ],
   "source": [
    "list_a=[4,3,2]\n",
    "list_b=[3,5,6]\n",
    "\n",
    "def sort_list(list_a):\n",
    "    list_a.sort()\n",
    "    return(list_a)\n",
    "\n",
    "sort_list(list_a)"
   ]
  },
  {
   "cell_type": "code",
   "execution_count": 59,
   "metadata": {},
   "outputs": [
    {
     "data": {
      "text/plain": [
       "[4, 2]"
      ]
     },
     "execution_count": 59,
     "metadata": {},
     "output_type": "execute_result"
    }
   ],
   "source": [
    "list_a=[4,3,2]\n",
    "list_b=[3,5,6]\n",
    "\n",
    "def sub_list(list_a, list_b):\n",
    "    newlist=[]\n",
    "    for i in list_a:\n",
    "        if i not in list_b:\n",
    "            newlist.append(i)\n",
    "    return(newlist)\n",
    "\n",
    "sub_list(list_a, list_b)"
   ]
  },
  {
   "cell_type": "code",
   "execution_count": 98,
   "metadata": {},
   "outputs": [
    {
     "name": "stdout",
     "output_type": "stream",
     "text": [
      "Enter the String 452326235123546245\n",
      "16\n"
     ]
    }
   ],
   "source": [
    "str=input('Enter the String ')\n",
    "count=0\n",
    "length=int(len(str))\n",
    "if(str[length-1]=='6'):\n",
    "    print('-1')\n",
    "else:\n",
    "    for i in range(length):\n",
    "        if (str[i]!='6'):\n",
    "            count+=1\n",
    "    print(count)"
   ]
  },
  {
   "cell_type": "code",
   "execution_count": 105,
   "metadata": {},
   "outputs": [
    {
     "name": "stdout",
     "output_type": "stream",
     "text": [
      "3\n",
      "dfg\n",
      "sddgg dfsdg\n",
      "dfsdf sdfsdf sdfsd\n"
     ]
    },
    {
     "ename": "NameError",
     "evalue": "name 'count_i' is not defined",
     "output_type": "error",
     "traceback": [
      "\u001b[0;31m---------------------------------------------------------------------------\u001b[0m",
      "\u001b[0;31mNameError\u001b[0m                                 Traceback (most recent call last)",
      "\u001b[0;32m<ipython-input-105-2f214fc393fe>\u001b[0m in \u001b[0;36m<module>\u001b[0;34m\u001b[0m\n\u001b[1;32m      7\u001b[0m     \u001b[0;32mfor\u001b[0m \u001b[0mj\u001b[0m \u001b[0;32min\u001b[0m \u001b[0mrange\u001b[0m \u001b[0;34m(\u001b[0m\u001b[0;36m0\u001b[0m\u001b[0;34m,\u001b[0m\u001b[0mlen\u001b[0m\u001b[0;34m(\u001b[0m\u001b[0mstr_i\u001b[0m\u001b[0;34m)\u001b[0m\u001b[0;34m-\u001b[0m\u001b[0;36m1\u001b[0m\u001b[0;34m)\u001b[0m\u001b[0;34m:\u001b[0m\u001b[0;34m\u001b[0m\u001b[0;34m\u001b[0m\u001b[0m\n\u001b[1;32m      8\u001b[0m         \u001b[0;32mif\u001b[0m\u001b[0;34m(\u001b[0m\u001b[0mstr_i\u001b[0m\u001b[0;34m[\u001b[0m\u001b[0mj\u001b[0m\u001b[0;34m]\u001b[0m\u001b[0;34m==\u001b[0m\u001b[0;34m' '\u001b[0m\u001b[0;34m)\u001b[0m\u001b[0;34m:\u001b[0m\u001b[0;34m\u001b[0m\u001b[0;34m\u001b[0m\u001b[0m\n\u001b[0;32m----> 9\u001b[0;31m             \u001b[0mcount_i\u001b[0m\u001b[0;34m+=\u001b[0m\u001b[0;36m1\u001b[0m\u001b[0;34m\u001b[0m\u001b[0;34m\u001b[0m\u001b[0m\n\u001b[0m\u001b[1;32m     10\u001b[0m     \u001b[0mprint\u001b[0m\u001b[0;34m(\u001b[0m\u001b[0mcount_i\u001b[0m\u001b[0;34m)\u001b[0m\u001b[0;34m\u001b[0m\u001b[0;34m\u001b[0m\u001b[0m\n",
      "\u001b[0;31mNameError\u001b[0m: name 'count_i' is not defined"
     ]
    }
   ],
   "source": [
    "N=int(input())\n",
    "\n",
    "for i in range (0,N):\n",
    "    str_i=input()\n",
    "\n",
    "for i in range (0,N):\n",
    "    for j in range (0,len(str_i)-1):\n",
    "        if(str_i[j]==' '):\n",
    "            count_i+=1\n",
    "    print(count_i)"
   ]
  },
  {
   "cell_type": "code",
   "execution_count": 9,
   "metadata": {},
   "outputs": [
    {
     "name": "stdout",
     "output_type": "stream",
     "text": [
      "3\n",
      "Hello\n",
      "My name is\\\n",
      "adam smith\n",
      "HELLO \n",
      "\n",
      "mY NAME IS\\ \n",
      "\n",
      "Adam smith \n",
      "\n"
     ]
    }
   ],
   "source": [
    "num = int(input())\n",
    "words = []\n",
    "for a in range(0 , num):\n",
    "    words.append(input())\n",
    "\n",
    "for word in words:\n",
    "    if len(word.split()) == 1:\n",
    "        print(word.upper() , '\\n')\n",
    "    elif len(word.split()) == 2:\n",
    "        print(word[0].upper() + word[1:] , '\\n')\n",
    "    elif len(word.split()) > 2:\n",
    "        print(word.swapcase() , '\\n')"
   ]
  },
  {
   "cell_type": "code",
   "execution_count": 3,
   "metadata": {},
   "outputs": [
    {
     "name": "stdout",
     "output_type": "stream",
     "text": [
      "2\n",
      "sdfds\n",
      "sfs\n"
     ]
    },
    {
     "ename": "AttributeError",
     "evalue": "'list' object has no attribute 'split'",
     "output_type": "error",
     "traceback": [
      "\u001b[0;31m---------------------------------------------------------------------------\u001b[0m",
      "\u001b[0;31mAttributeError\u001b[0m                            Traceback (most recent call last)",
      "\u001b[0;32m<ipython-input-3-0f6b93057536>\u001b[0m in \u001b[0;36m<module>\u001b[0;34m\u001b[0m\n\u001b[1;32m     10\u001b[0m \u001b[0;32mfor\u001b[0m \u001b[0ma\u001b[0m \u001b[0;32min\u001b[0m \u001b[0mrange\u001b[0m\u001b[0;34m(\u001b[0m\u001b[0;36m0\u001b[0m\u001b[0;34m,\u001b[0m \u001b[0mk\u001b[0m\u001b[0;34m)\u001b[0m\u001b[0;34m:\u001b[0m\u001b[0;34m\u001b[0m\u001b[0;34m\u001b[0m\u001b[0m\n\u001b[1;32m     11\u001b[0m     \u001b[0mstr\u001b[0m\u001b[0;34m.\u001b[0m\u001b[0mappend\u001b[0m\u001b[0;34m(\u001b[0m\u001b[0minput\u001b[0m\u001b[0;34m(\u001b[0m\u001b[0;34m)\u001b[0m\u001b[0;34m)\u001b[0m\u001b[0;34m\u001b[0m\u001b[0;34m\u001b[0m\u001b[0m\n\u001b[0;32m---> 12\u001b[0;31m \u001b[0mprint\u001b[0m\u001b[0;34m(\u001b[0m\u001b[0mstring_k\u001b[0m\u001b[0;34m(\u001b[0m\u001b[0mk\u001b[0m\u001b[0;34m,\u001b[0m \u001b[0mstr\u001b[0m\u001b[0;34m)\u001b[0m\u001b[0;34m)\u001b[0m\u001b[0;34m\u001b[0m\u001b[0;34m\u001b[0m\u001b[0m\n\u001b[0m",
      "\u001b[0;32m<ipython-input-3-0f6b93057536>\u001b[0m in \u001b[0;36mstring_k\u001b[0;34m(k, str)\u001b[0m\n\u001b[1;32m      1\u001b[0m \u001b[0;32mdef\u001b[0m \u001b[0mstring_k\u001b[0m\u001b[0;34m(\u001b[0m\u001b[0mk\u001b[0m\u001b[0;34m,\u001b[0m \u001b[0mstr\u001b[0m\u001b[0;34m)\u001b[0m\u001b[0;34m:\u001b[0m\u001b[0;34m\u001b[0m\u001b[0;34m\u001b[0m\u001b[0m\n\u001b[1;32m      2\u001b[0m     \u001b[0mstring\u001b[0m \u001b[0;34m=\u001b[0m \u001b[0;34m[\u001b[0m\u001b[0;34m]\u001b[0m\u001b[0;34m\u001b[0m\u001b[0;34m\u001b[0m\u001b[0m\n\u001b[0;32m----> 3\u001b[0;31m     \u001b[0mtext\u001b[0m \u001b[0;34m=\u001b[0m \u001b[0mstr\u001b[0m\u001b[0;34m.\u001b[0m\u001b[0msplit\u001b[0m\u001b[0;34m(\u001b[0m\u001b[0;34m''\u001b[0m\u001b[0;34m)\u001b[0m\u001b[0;34m\u001b[0m\u001b[0;34m\u001b[0m\u001b[0m\n\u001b[0m\u001b[1;32m      4\u001b[0m     \u001b[0;32mfor\u001b[0m \u001b[0mx\u001b[0m \u001b[0;32min\u001b[0m \u001b[0mtext\u001b[0m\u001b[0;34m:\u001b[0m\u001b[0;34m\u001b[0m\u001b[0;34m\u001b[0m\u001b[0m\n\u001b[1;32m      5\u001b[0m         \u001b[0;32mif\u001b[0m \u001b[0mlen\u001b[0m\u001b[0;34m(\u001b[0m\u001b[0mx\u001b[0m\u001b[0;34m)\u001b[0m \u001b[0;34m>\u001b[0m \u001b[0mk\u001b[0m\u001b[0;34m:\u001b[0m\u001b[0;34m\u001b[0m\u001b[0;34m\u001b[0m\u001b[0m\n",
      "\u001b[0;31mAttributeError\u001b[0m: 'list' object has no attribute 'split'"
     ]
    }
   ],
   "source": [
    "def string_k(k, str):\n",
    "    string = []\n",
    "    text = str.split('') \n",
    "    for x in text:\n",
    "        if len(x) > k:\n",
    "            string.append(x)\n",
    "    return string\n",
    "k = int(input())\n",
    "str = []\n",
    "for a in range(0, k):\n",
    "    str.append(input())\n",
    "print(string_k(k, str))"
   ]
  },
  {
   "cell_type": "code",
   "execution_count": 1,
   "metadata": {},
   "outputs": [
    {
     "name": "stdout",
     "output_type": "stream",
     "text": [
      "4483\n",
      "2\n"
     ]
    },
    {
     "ename": "TypeError",
     "evalue": "'str' object does not support item assignment",
     "output_type": "error",
     "traceback": [
      "\u001b[0;31m---------------------------------------------------------------------------\u001b[0m",
      "\u001b[0;31mTypeError\u001b[0m                                 Traceback (most recent call last)",
      "\u001b[0;32m<ipython-input-1-6cf597ded316>\u001b[0m in \u001b[0;36m<module>\u001b[0;34m\u001b[0m\n\u001b[1;32m      5\u001b[0m     \u001b[0;32mwhile\u001b[0m \u001b[0;34m(\u001b[0m\u001b[0mcount\u001b[0m\u001b[0;34m>\u001b[0m\u001b[0;36m0\u001b[0m\u001b[0;34m)\u001b[0m\u001b[0;34m:\u001b[0m\u001b[0;34m\u001b[0m\u001b[0;34m\u001b[0m\u001b[0m\n\u001b[1;32m      6\u001b[0m         \u001b[0;32mif\u001b[0m\u001b[0;34m(\u001b[0m\u001b[0mstr\u001b[0m\u001b[0;34m[\u001b[0m\u001b[0mi\u001b[0m\u001b[0;34m]\u001b[0m\u001b[0;34m!=\u001b[0m\u001b[0;34m'9'\u001b[0m\u001b[0;34m)\u001b[0m\u001b[0;34m:\u001b[0m\u001b[0;34m\u001b[0m\u001b[0;34m\u001b[0m\u001b[0m\n\u001b[0;32m----> 7\u001b[0;31m             \u001b[0mstr\u001b[0m\u001b[0;34m[\u001b[0m\u001b[0mi\u001b[0m\u001b[0;34m]\u001b[0m\u001b[0;34m=\u001b[0m\u001b[0;34m'9'\u001b[0m\u001b[0;34m\u001b[0m\u001b[0;34m\u001b[0m\u001b[0m\n\u001b[0m\u001b[1;32m      8\u001b[0m             \u001b[0mcount\u001b[0m\u001b[0;34m-=\u001b[0m\u001b[0;36m1\u001b[0m\u001b[0;34m\u001b[0m\u001b[0;34m\u001b[0m\u001b[0m\n\u001b[1;32m      9\u001b[0m \u001b[0mprint\u001b[0m\u001b[0;34m(\u001b[0m\u001b[0mstr\u001b[0m\u001b[0;34m)\u001b[0m\u001b[0;34m\u001b[0m\u001b[0;34m\u001b[0m\u001b[0m\n",
      "\u001b[0;31mTypeError\u001b[0m: 'str' object does not support item assignment"
     ]
    }
   ],
   "source": [
    "str=input()\n",
    "count=int(input())\n",
    "length=int(len(str))\n",
    "for i in range (0, length-1):\n",
    "    while (count>0):\n",
    "        if(str[i]!='9'):\n",
    "            str[i]='9'\n",
    "            count-=1\n",
    "print(str)"
   ]
  },
  {
   "cell_type": "code",
   "execution_count": 14,
   "metadata": {},
   "outputs": [
    {
     "name": "stdout",
     "output_type": "stream",
     "text": [
      "4483 2\n",
      "9983\n"
     ]
    }
   ],
   "source": [
    "X,k=input().split()\n",
    "Xl=list(X)\n",
    "z=int(k)\n",
    "i=0\n",
    "while z>0:\n",
    "    if int(Xl[i])!=9:\n",
    "        Xl[i]='9'\n",
    "        z=z-1\n",
    "        i=i+1\n",
    "print(''.join(Xl))"
   ]
  },
  {
   "cell_type": "code",
   "execution_count": 10,
   "metadata": {},
   "outputs": [
    {
     "name": "stdout",
     "output_type": "stream",
     "text": [
      "2\n"
     ]
    },
    {
     "ename": "TypeError",
     "evalue": "'int' object is not iterable",
     "output_type": "error",
     "traceback": [
      "\u001b[0;31m---------------------------------------------------------------------------\u001b[0m",
      "\u001b[0;31mTypeError\u001b[0m                                 Traceback (most recent call last)",
      "\u001b[0;32m<ipython-input-10-4554573e56be>\u001b[0m in \u001b[0;36m<module>\u001b[0;34m\u001b[0m\n\u001b[1;32m      1\u001b[0m \u001b[0mcount\u001b[0m\u001b[0;34m=\u001b[0m\u001b[0mint\u001b[0m\u001b[0;34m(\u001b[0m\u001b[0minput\u001b[0m\u001b[0;34m(\u001b[0m\u001b[0;34m)\u001b[0m\u001b[0;34m)\u001b[0m\u001b[0;34m\u001b[0m\u001b[0;34m\u001b[0m\u001b[0m\n\u001b[0;32m----> 2\u001b[0;31m \u001b[0mstr\u001b[0m\u001b[0;34m=\u001b[0m\u001b[0minput\u001b[0m\u001b[0;34m(\u001b[0m\u001b[0mlist\u001b[0m\u001b[0;34m(\u001b[0m\u001b[0mcount\u001b[0m\u001b[0;34m)\u001b[0m\u001b[0;34m)\u001b[0m\u001b[0;34m\u001b[0m\u001b[0;34m\u001b[0m\u001b[0m\n\u001b[0m\u001b[1;32m      3\u001b[0m \u001b[0mlength\u001b[0m\u001b[0;34m=\u001b[0m\u001b[0mint\u001b[0m\u001b[0;34m(\u001b[0m\u001b[0mlen\u001b[0m\u001b[0;34m(\u001b[0m\u001b[0mstr\u001b[0m\u001b[0;34m)\u001b[0m\u001b[0;34m)\u001b[0m\u001b[0;34m\u001b[0m\u001b[0;34m\u001b[0m\u001b[0m\n\u001b[1;32m      4\u001b[0m \u001b[0;32mfor\u001b[0m \u001b[0mi\u001b[0m \u001b[0;32min\u001b[0m \u001b[0mrange\u001b[0m \u001b[0;34m(\u001b[0m\u001b[0;36m0\u001b[0m\u001b[0;34m,\u001b[0m \u001b[0mlength\u001b[0m\u001b[0;34m-\u001b[0m\u001b[0;36m1\u001b[0m\u001b[0;34m)\u001b[0m\u001b[0;34m:\u001b[0m\u001b[0;34m\u001b[0m\u001b[0;34m\u001b[0m\u001b[0m\n\u001b[1;32m      5\u001b[0m     \u001b[0;32mwhile\u001b[0m \u001b[0;34m(\u001b[0m\u001b[0mcount\u001b[0m\u001b[0;34m>\u001b[0m\u001b[0;36m0\u001b[0m\u001b[0;34m)\u001b[0m\u001b[0;34m:\u001b[0m\u001b[0;34m\u001b[0m\u001b[0;34m\u001b[0m\u001b[0m\n",
      "\u001b[0;31mTypeError\u001b[0m: 'int' object is not iterable"
     ]
    }
   ],
   "source": [
    "count=int(input())\n",
    "str=input(list(count))\n",
    "length=int(len(str))\n",
    "for i in range (0, length-1):\n",
    "    while (count>0):\n",
    "        if(str[i]!='9'):\n",
    "            str[i]='9'\n",
    "            count-=1\n",
    "print(str)"
   ]
  },
  {
   "cell_type": "code",
   "execution_count": null,
   "metadata": {},
   "outputs": [
    {
     "name": "stdout",
     "output_type": "stream",
     "text": [
      "8992371\n",
      "2\n"
     ]
    }
   ],
   "source": [
    "N = input()\n",
    "K = input()\n",
    "N = list(N)\n",
    "K = int(K)\n",
    "i = 0\n",
    "j = 0\n",
    "while i < K and j < len(N):\n",
    "    if N[j] != '9':\n",
    "        N[j] = '9'\n",
    "        i += 1\n",
    "        j += 1\n",
    "for number in N:\n",
    "    print(number,end='')"
   ]
  },
  {
   "cell_type": "code",
   "execution_count": 10,
   "metadata": {},
   "outputs": [
    {
     "name": "stdout",
     "output_type": "stream",
     "text": [
      "2\n",
      "sdfds\n"
     ]
    },
    {
     "ename": "AttributeError",
     "evalue": "'list' object has no attribute 'split'",
     "output_type": "error",
     "traceback": [
      "\u001b[0;31m---------------------------------------------------------------------------\u001b[0m",
      "\u001b[0;31mAttributeError\u001b[0m                            Traceback (most recent call last)",
      "\u001b[0;32m<ipython-input-10-467147f76f6c>\u001b[0m in \u001b[0;36m<module>\u001b[0;34m\u001b[0m\n\u001b[1;32m      6\u001b[0m             \u001b[0mword_len\u001b[0m\u001b[0;34m.\u001b[0m\u001b[0mappend\u001b[0m\u001b[0;34m(\u001b[0m\u001b[0mx\u001b[0m\u001b[0;34m)\u001b[0m\u001b[0;34m\u001b[0m\u001b[0;34m\u001b[0m\u001b[0m\n\u001b[1;32m      7\u001b[0m     \u001b[0;32mreturn\u001b[0m \u001b[0mword_len\u001b[0m\u001b[0;34m\u001b[0m\u001b[0;34m\u001b[0m\u001b[0m\n\u001b[0;32m----> 8\u001b[0;31m \u001b[0mprint\u001b[0m\u001b[0;34m(\u001b[0m\u001b[0mlong_words\u001b[0m\u001b[0;34m(\u001b[0m\u001b[0mint\u001b[0m\u001b[0;34m(\u001b[0m\u001b[0minput\u001b[0m\u001b[0;34m(\u001b[0m\u001b[0;34m)\u001b[0m\u001b[0;34m)\u001b[0m\u001b[0;34m,\u001b[0m \u001b[0minput\u001b[0m\u001b[0;34m(\u001b[0m\u001b[0;34m)\u001b[0m\u001b[0;34m.\u001b[0m\u001b[0msplit\u001b[0m\u001b[0;34m(\u001b[0m\u001b[0;34m)\u001b[0m\u001b[0;34m)\u001b[0m\u001b[0;34m)\u001b[0m\u001b[0;34m\u001b[0m\u001b[0;34m\u001b[0m\u001b[0m\n\u001b[0m",
      "\u001b[0;32m<ipython-input-10-467147f76f6c>\u001b[0m in \u001b[0;36mlong_words\u001b[0;34m(n, str)\u001b[0m\n\u001b[1;32m      1\u001b[0m \u001b[0;32mdef\u001b[0m \u001b[0mlong_words\u001b[0m\u001b[0;34m(\u001b[0m\u001b[0mn\u001b[0m\u001b[0;34m,\u001b[0m \u001b[0mstr\u001b[0m\u001b[0;34m)\u001b[0m\u001b[0;34m:\u001b[0m\u001b[0;34m\u001b[0m\u001b[0;34m\u001b[0m\u001b[0m\n\u001b[1;32m      2\u001b[0m     \u001b[0mword_len\u001b[0m \u001b[0;34m=\u001b[0m \u001b[0;34m[\u001b[0m\u001b[0;34m]\u001b[0m\u001b[0;34m\u001b[0m\u001b[0;34m\u001b[0m\u001b[0m\n\u001b[0;32m----> 3\u001b[0;31m     \u001b[0mtxt\u001b[0m \u001b[0;34m=\u001b[0m \u001b[0mstr\u001b[0m\u001b[0;34m.\u001b[0m\u001b[0msplit\u001b[0m\u001b[0;34m(\u001b[0m\u001b[0;34m)\u001b[0m\u001b[0;34m\u001b[0m\u001b[0;34m\u001b[0m\u001b[0m\n\u001b[0m\u001b[1;32m      4\u001b[0m     \u001b[0;32mfor\u001b[0m \u001b[0mx\u001b[0m \u001b[0;32min\u001b[0m \u001b[0mtxt\u001b[0m\u001b[0;34m:\u001b[0m\u001b[0;34m\u001b[0m\u001b[0;34m\u001b[0m\u001b[0m\n\u001b[1;32m      5\u001b[0m         \u001b[0;32mif\u001b[0m \u001b[0mlen\u001b[0m\u001b[0;34m(\u001b[0m\u001b[0mx\u001b[0m\u001b[0;34m)\u001b[0m \u001b[0;34m>\u001b[0m \u001b[0mn\u001b[0m\u001b[0;34m:\u001b[0m\u001b[0;34m\u001b[0m\u001b[0;34m\u001b[0m\u001b[0m\n",
      "\u001b[0;31mAttributeError\u001b[0m: 'list' object has no attribute 'split'"
     ]
    }
   ],
   "source": [
    "def long_words(n, str):\n",
    "    word_len = []\n",
    "    txt = str.split()\n",
    "    for x in txt:\n",
    "        if len(x) > n:\n",
    "            word_len.append(x)\n",
    "    return word_len\t\n",
    "print(long_words(int(input()), input().split()))"
   ]
  },
  {
   "cell_type": "code",
   "execution_count": null,
   "metadata": {},
   "outputs": [],
   "source": [
    "X,k=input().split()\n",
    "Xl=list(X)\n",
    "z=int(k)\n",
    "i=0\n",
    "while z>0:\n",
    "    if int(Xl[i])!=9:\n",
    "        Xl[i]='9'\n",
    "        z=z-1\n",
    "        i=i+1\n",
    "print(''.join(Xl))"
   ]
  },
  {
   "cell_type": "code",
   "execution_count": 5,
   "metadata": {},
   "outputs": [
    {
     "name": "stdout",
     "output_type": "stream",
     "text": [
      "8992371\n",
      "2\n",
      "9999371\n"
     ]
    }
   ],
   "source": [
    "sample = input()\n",
    "numberofdig = input()\n",
    "data = list(map(int,sample))\n",
    "size = int(len(data))\n",
    "n = int(numberofdig)\n",
    "times = 0\n",
    "\n",
    "for i in range(0,size,1):\n",
    "    if times == n:\n",
    "        break\n",
    "    elif data[i] != 9:\n",
    "        data[i] = 9\n",
    "        times+=1\n",
    "\n",
    "num = int(''.join(map(str,data)))\n",
    "print(num)"
   ]
  },
  {
   "cell_type": "code",
   "execution_count": 13,
   "metadata": {},
   "outputs": [
    {
     "name": "stdout",
     "output_type": "stream",
     "text": [
      "edureka\n",
      "edureka\n",
      "1\n"
     ]
    }
   ],
   "source": [
    "def count(a, b, m, n):\n",
    "    if ((m == 0 and n == 0) or n == 0):\n",
    "        return 1\n",
    "    if (m == 0):\n",
    "        return 0\n",
    "    if (a[m - 1] == b[n - 1]):\n",
    "        return (count(a, b, m - 1, n - 1) + count(a, b, m - 1, n))  \n",
    "    else: \n",
    "        return count(a, b, m - 1, n)\n",
    "\n",
    "a = input()\n",
    "b = input()\n",
    "print(count(a, b, len(a),len(b)))"
   ]
  },
  {
   "cell_type": "code",
   "execution_count": 18,
   "metadata": {},
   "outputs": [
    {
     "name": "stdout",
     "output_type": "stream",
     "text": [
      "abcdeefghij\\\n",
      "a\n",
      "ab\n",
      "abc\n",
      "abcd\n",
      "abcde\n",
      "abcdee\n",
      "abcdeef\n",
      "abcdeefg\n",
      "abcdeefgh\n",
      "abcdeefghi\n",
      "abcdeefghij\n",
      "abcdeefghij\\\n",
      "b\n",
      "bc\n",
      "bcd\n",
      "bcde\n",
      "bcdee\n",
      "bcdeef\n",
      "bcdeefg\n",
      "bcdeefgh\n",
      "bcdeefghi\n",
      "bcdeefghij\n",
      "bcdeefghij\\\n",
      "c\n",
      "cd\n",
      "cde\n",
      "cdee\n",
      "cdeef\n",
      "cdeefg\n",
      "cdeefgh\n",
      "cdeefghi\n",
      "cdeefghij\n",
      "cdeefghij\\\n",
      "d\n",
      "de\n",
      "dee\n",
      "deef\n",
      "deefg\n",
      "deefgh\n",
      "deefghi\n",
      "deefghij\n",
      "deefghij\\\n",
      "e\n",
      "ee\n",
      "eef\n",
      "eefg\n",
      "eefgh\n",
      "eefghi\n",
      "eefghij\n",
      "eefghij\\\n",
      "f\n",
      "fg\n",
      "fgh\n",
      "fghi\n",
      "fghij\n",
      "fghij\\\n",
      "g\n",
      "gh\n",
      "ghi\n",
      "ghij\n",
      "ghij\\\n",
      "h\n",
      "hi\n",
      "hij\n",
      "hij\\\n",
      "i\n",
      "ij\n",
      "ij\\\n",
      "j\n",
      "j\\\n",
      "\\\n"
     ]
    }
   ],
   "source": [
    "def subString(s, n):\n",
    "    for i in range(n):\n",
    "        for len in range(i+1,n+1):\n",
    "            if s[i] != s[i-1]:\n",
    "                print(s[i:len]);\n",
    "\n",
    "s = input();\n",
    "subString(s,len(s));"
   ]
  },
  {
   "cell_type": "code",
   "execution_count": null,
   "metadata": {},
   "outputs": [],
   "source": []
  }
 ],
 "metadata": {
  "kernelspec": {
   "display_name": "Python 3",
   "language": "python",
   "name": "python3"
  },
  "language_info": {
   "codemirror_mode": {
    "name": "ipython",
    "version": 3
   },
   "file_extension": ".py",
   "mimetype": "text/x-python",
   "name": "python",
   "nbconvert_exporter": "python",
   "pygments_lexer": "ipython3",
   "version": "3.7.3"
  }
 },
 "nbformat": 4,
 "nbformat_minor": 2
}
