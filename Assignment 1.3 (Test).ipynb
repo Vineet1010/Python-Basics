{
 "cells": [
  {
   "cell_type": "code",
   "execution_count": 17,
   "metadata": {},
   "outputs": [
    {
     "name": "stdout",
     "output_type": "stream",
     "text": [
      "http://www.abcdefg123.com\n",
      "Success\n"
     ]
    }
   ],
   "source": [
    "import requests\n",
    "URL = input()\n",
    "request = requests.get(URL)\n",
    "if request.status_code == 200:\n",
    "    print('Success')\n",
    "else:\n",
    "    print('Failed') "
   ]
  },
  {
   "cell_type": "code",
   "execution_count": 27,
   "metadata": {},
   "outputs": [
    {
     "name": "stdout",
     "output_type": "stream",
     "text": [
      "https://learning.edureka.co/\n",
      "My Classroom | Edureka\n"
     ]
    }
   ],
   "source": [
    "import requests\n",
    "from bs4 import BeautifulSoup as bs\n",
    "URL = input()\n",
    "r = requests.get(URL)\n",
    "soup = bs(r.content, 'lxml')\n",
    "print(soup.select_one('title').text)"
   ]
  }
 ],
 "metadata": {
  "kernelspec": {
   "display_name": "Python 3",
   "language": "python",
   "name": "python3"
  },
  "language_info": {
   "codemirror_mode": {
    "name": "ipython",
    "version": 3
   },
   "file_extension": ".py",
   "mimetype": "text/x-python",
   "name": "python",
   "nbconvert_exporter": "python",
   "pygments_lexer": "ipython3",
   "version": "3.7.3"
  }
 },
 "nbformat": 4,
 "nbformat_minor": 2
}
